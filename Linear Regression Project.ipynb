{
  "nbformat": 4,
  "nbformat_minor": 0,
  "metadata": {
    "colab": {
      "provenance": [],
      "authorship_tag": "ABX9TyPG18WNVxl/F2q7VZ5fuV9c",
      "include_colab_link": true
    },
    "kernelspec": {
      "name": "python3",
      "display_name": "Python 3"
    },
    "language_info": {
      "name": "python"
    }
  },
  "cells": [
    {
      "cell_type": "markdown",
      "metadata": {
        "id": "view-in-github",
        "colab_type": "text"
      },
      "source": [
        "<a href=\"https://colab.research.google.com/github/VinodKumarDhanavath/VinodKumarDhanavath/blob/main/Linear%20Regression%20Project.ipynb\" target=\"_parent\"><img src=\"https://colab.research.google.com/assets/colab-badge.svg\" alt=\"Open In Colab\"/></a>"
      ]
    },
    {
      "cell_type": "code",
      "source": [
        "#imporing pandas\n",
        "import pandas as pd\n",
        "#Sklearn library is ML library which is like an optimizer and it will help us implement all the algorithms.\n",
        "from sklearn.model_selection import train_test_split\n",
        "from sklearn.linear_model import LinearRegression\n",
        "from sklearn.metrics import mean_squared_error, r2_score\n",
        "\n",
        "data= pd.read_csv('/content/Reg_Assignment _Data Set/train.csv')\n",
        "data.head()\n",
        "\n",
        "# Drop columns with more than 50% missing values\n",
        "data_cleaned = data.dropna(axis=1)\n",
        "data.head()\n",
        "\n",
        "# Split the dataset into features (X) and target (y)\n",
        "X = data_cleaned[['OverallQual']]  # Using OverallQual as a feature\n",
        "y = data_cleaned[['SalePrice']]  # SalePrice is the label\n",
        "\n",
        "# Split the dataset into features (X) and target (y)\n",
        "X = data_cleaned[['OverallQual']]  # Using OverallQual as a feature\n",
        "y = data_cleaned[['SalePrice']]  # SalePrice is the target variable\n",
        "\n",
        "X_train, X_test, y_train, y_test = train_test_split(X, y, test_size=0.2, random_state=80)\n",
        "\n",
        "# Train the linear regression model\n",
        "model = LinearRegression()\n",
        "model.fit(X_train, y_train)\n",
        "y_pred = model.predict(X_test)\n",
        "\n",
        "print(f'Coefficient of determination is {r2_score(y_test, y_pred)}')\n",
        "\n",
        "# Predict the housing price for a new OverallQual value\n",
        "\n",
        "new_overall_qual = [[11]]\n",
        "predicted_price = model.predict(new_overall_qual)\n",
        "print(f'Predicted housing price for OverallQual 11 is {predicted_price[0][0]}')\n",
        "\n",
        "\n"
      ],
      "metadata": {
        "colab": {
          "base_uri": "https://localhost:8080/"
        },
        "id": "-LN2Ih2GrjrC",
        "outputId": "1fe823cd-53c4-45a8-861e-f2283bf1f4cb"
      },
      "execution_count": 7,
      "outputs": [
        {
          "output_type": "stream",
          "name": "stdout",
          "text": [
            "Coefficient of determination is 0.7011420673885607\n",
            "Predicted housing price for OverallQual 11 is 405549.6457521691\n"
          ]
        },
        {
          "output_type": "stream",
          "name": "stderr",
          "text": [
            "/usr/local/lib/python3.10/dist-packages/sklearn/base.py:439: UserWarning: X does not have valid feature names, but LinearRegression was fitted with feature names\n",
            "  warnings.warn(\n"
          ]
        }
      ]
    },
    {
      "cell_type": "code",
      "source": [
        "from google.colab import drive\n",
        "drive.mount('/content/drive')"
      ],
      "metadata": {
        "id": "SlfJSjLE_5sE"
      },
      "execution_count": null,
      "outputs": []
    },
    {
      "cell_type": "code",
      "source": [],
      "metadata": {
        "id": "yugqQSYr-abS"
      },
      "execution_count": null,
      "outputs": []
    }
  ]
}